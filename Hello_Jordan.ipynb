{
  "nbformat": 4,
  "nbformat_minor": 0,
  "metadata": {
    "colab": {
      "provenance": [],
      "authorship_tag": "ABX9TyOwOyey9+GhAhD/aR2J1Z3q",
      "include_colab_link": true
    },
    "kernelspec": {
      "name": "python3",
      "display_name": "Python 3"
    },
    "language_info": {
      "name": "python"
    }
  },
  "cells": [
    {
      "cell_type": "markdown",
      "metadata": {
        "id": "view-in-github",
        "colab_type": "text"
      },
      "source": [
        "<a href=\"https://colab.research.google.com/github/twlogica/test/blob/master/Hello_Jordan.ipynb\" target=\"_parent\"><img src=\"https://colab.research.google.com/assets/colab-badge.svg\" alt=\"Open In Colab\"/></a>"
      ]
    },
    {
      "cell_type": "code",
      "source": [
        "print('Hello Jordan Passtoors')\n",
        "import pandas as pd\n",
        "dictionary = {'j' : 1, 'o' : 2, 'r' : 3, 'd': 4, 'a': 5, 'n': 6}\n",
        "s = pd.Series(dictionary)\n",
        "print(s)"
      ],
      "metadata": {
        "colab": {
          "base_uri": "https://localhost:8080/"
        },
        "id": "rPec_gbCXMhM",
        "outputId": "fca86840-1978-4d82-a4cf-3e4b04c1863d"
      },
      "execution_count": null,
      "outputs": [
        {
          "output_type": "stream",
          "name": "stdout",
          "text": [
            "Hello Jordan Passtoors\n",
            "j    1\n",
            "o    2\n",
            "r    3\n",
            "d    4\n",
            "a    5\n",
            "n    6\n",
            "dtype: int64\n"
          ]
        }
      ]
    }
  ]
}